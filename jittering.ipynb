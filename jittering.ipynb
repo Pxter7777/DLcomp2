{
 "cells": [
  {
   "cell_type": "code",
   "execution_count": 1,
   "metadata": {},
   "outputs": [],
   "source": [
    "from math import trunc\n",
    "from multiprocessing.sharedctypes import Value\n",
    "import xml.etree.ElementTree as ET\n",
    "import xml.dom.minidom\n",
    "import os\n",
    "import cv2\n",
    "from tqdm import tqdm, trange\n",
    "import numpy as np\n",
    "import pandas as pd\n",
    "import time\n",
    "import warnings\n",
    "warnings.filterwarnings(\"ignore\")\n",
    "\n",
    "\n",
    "from data_aug.data_aug import *\n",
    "from data_aug.bbox_util import *\n",
    "\n",
    "import matplotlib.pyplot as plt \n",
    "import pickle as pkl\n",
    "%matplotlib inline\n",
    "\n"
   ]
  },
  {
   "cell_type": "code",
   "execution_count": 2,
   "metadata": {},
   "outputs": [],
   "source": [
    "import os\n",
    "if not os.path.exists('jittering_data'):\n",
    "    os.mkdir('jittering_data')"
   ]
  },
  {
   "cell_type": "code",
   "execution_count": 3,
   "metadata": {},
   "outputs": [],
   "source": [
    "origin_path = os.path.join('.', 'jittering_data', 'origin')\n",
    "origin_Image_Path = os.path.join(origin_path, 'JPEGImages')\n",
    "origin_Annotation_Path = os.path.join(origin_path, 'Annotations_with_ID')\n",
    "\n",
    "output_path = os.path.join('.', 'jittering_data', 'output')\n",
    "output_Image_Path = os.path.join(output_path, 'JPEGImages')\n",
    "output_Annotation_Path = os.path.join(output_path, 'Annotations_with_ID')\n",
    "if not os.path.exists(output_Image_Path):\n",
    "    os.mkdir(output_Image_Path)\n",
    "if not os.path.exists(output_Annotation_Path):\n",
    "    os.mkdir(output_Annotation_Path)\n"
   ]
  },
  {
   "cell_type": "code",
   "execution_count": 4,
   "metadata": {},
   "outputs": [],
   "source": [
    "target_list = [i.split('.')[0] for i in os.listdir(origin_Annotation_Path)[:]]"
   ]
  },
  {
   "cell_type": "code",
   "execution_count": 5,
   "metadata": {},
   "outputs": [],
   "source": [
    "def process(target):\n",
    "    origin_img_path = os.path.join(origin_Image_Path, target+'.jpg')\n",
    "    origin_xml_path = os.path.join(origin_Annotation_Path, target+'.xml')\n",
    "    origin_boxes = xml_to_boxes(origin_xml_path)\n",
    "    origin_img = cv2.imread(origin_img_path)\n",
    "    #origin_img = 255*np.ones(origin_img.shape, origin_img.dtype)\n",
    "    #plt.imshow(origin_img[:,:,::-1])\n",
    "    #plt.show()\n",
    "    #origin_img2 = cv2.imread(origin_img_path)\n",
    "    # Demo the data\n",
    "    #print(origin_boxes)\n",
    "    #plotted_img = draw_rect(origin_img, origin_boxes)\n",
    "    #cv2.imwrite('nb.jpg', origin_img)\n",
    "    #cv2.imwrite('nbt.jpg', origin_img2)\n",
    "    #cv2.imshow('t',origin_img)\n",
    "    #cv2.waitKey()\n",
    "    #plt.show()\n",
    "    # just copy\n",
    "    #seq = Sequence([RandomHSV(0, 0, 100),RandomHorizontalFlip(), RandomScale(0.2), RandomRotate(20), RandomShear(0.2)])\n",
    "    #seq = RandomHSV(50, 100, 100)\n",
    "    #img_, bboxes_ = seq(origin_img.copy(),  origin_boxes.copy())\n",
    "    #plt.imshow(img_[:,:,::-1])\n",
    "    #plt.show()\n",
    "    #return\n",
    "    output_img_path =  os.path.join(output_Image_Path, target+str(0)+'.jpg')\n",
    "    output_xml_path = os.path.join(output_Annotation_Path, target+str(0)+'.xml')\n",
    "    cv2.imwrite(output_img_path, origin_img)\n",
    "    for i in range(1,5):\n",
    "        output_img_path =  os.path.join(output_Image_Path, target+str(i)+'.jpg')\n",
    "        output_xml_path = os.path.join(output_Annotation_Path, target+str(i)+'.xml')\n",
    "        \n",
    "        seq = Sequence([RandomHSV(40, 50, 50),RandomHorizontalFlip(), RandomScale(0.2), RandomRotate(20), RandomShear(0.2)])\n",
    "        #seq = RandomHSV(0, 0, 10)\n",
    "        #ad = origin_img.copy()\n",
    "        #print(ad.shape, ad.dtype)\n",
    "        #cv2.imshow('title',origin_img)\n",
    "        #cv2.waitKey()\n",
    "        #cv2.imshow('title',ad)\n",
    "        #cv2.waitKey()\n",
    "        try:\n",
    "            img_, bboxes_ = seq(origin_img.copy(),  origin_boxes.copy())\n",
    "            cv2.imwrite(output_img_path, img_)\n",
    "            tree = gen_tree(origin_xml_path, img_.shape,bboxes_)\n",
    "            tree.write(output_xml_path)\n",
    "        except:\n",
    "            print(\"STOP\")\n",
    "        \n",
    "        #plotted_img = draw_rect(img_, bboxes_)\n",
    "        #plt.imshow(plotted_img[:,:,::-1])\n",
    "        #plt.show()\n",
    "    \n",
    "\n",
    "    "
   ]
  },
  {
   "cell_type": "code",
   "execution_count": 6,
   "metadata": {},
   "outputs": [],
   "source": [
    "def gen_tree(xml_path, img_shape, bboxes):\n",
    "    tree = ET.parse(xml_path)\n",
    "    root = tree.getroot()\n",
    "    root.find('size/width').text = str(img_shape[0])\n",
    "    root.find('size/height').text = str(img_shape[1])\n",
    "    boxes = [i for i in root.iter('object')]\n",
    "    for box in boxes:\n",
    "        root.remove(box)\n",
    "    for box in bboxes:\n",
    "        new_box = ET.Element('object')\n",
    "        ET.SubElement(new_box, 'ID').text = str(int(box[4]))\n",
    "        bndbox = ET.SubElement(new_box, 'bndbox')\n",
    "        ET.SubElement(bndbox, 'xmin').text = str(int(box[0]))\n",
    "        ET.SubElement(bndbox, 'ymin').text = str(int(box[1]))\n",
    "        ET.SubElement(bndbox, 'xmax').text = str(int(box[2]))\n",
    "        ET.SubElement(bndbox, 'ymax').text = str(int(box[3]))\n",
    "        root.append(new_box)\n",
    "    ET.indent(root)\n",
    "    return tree"
   ]
  },
  {
   "cell_type": "code",
   "execution_count": 7,
   "metadata": {},
   "outputs": [],
   "source": [
    "\n",
    "def xml_to_boxes(path):\n",
    "    tree = ET.parse(path)\n",
    "    root = tree.getroot()\n",
    "    list_with_all_boxes = []\n",
    "    for box in root.iter('object'):\n",
    "        xmin = int(box.find(\"bndbox/xmin\").text)\n",
    "        ymin = int(box.find(\"bndbox/ymin\").text)\n",
    "        xmax = int(box.find(\"bndbox/xmax\").text)\n",
    "        ymax = int(box.find(\"bndbox/ymax\").text)\n",
    "        Id = int(box.find('ID').text)\n",
    "        list_with_all_boxes.append([xmin, ymin, xmax, ymax, Id])\n",
    "    return np.array(list_with_all_boxes, dtype='float64')\n"
   ]
  },
  {
   "cell_type": "code",
   "execution_count": 8,
   "metadata": {},
   "outputs": [
    {
     "name": "stderr",
     "output_type": "stream",
     "text": [
      "100%|██████████| 33546/33546 [48:06<00:00, 11.62it/s]  \n"
     ]
    }
   ],
   "source": [
    "#process('000007')\n",
    "for target in tqdm(target_list):\n",
    "    process(target)"
   ]
  },
  {
   "cell_type": "markdown",
   "metadata": {},
   "source": []
  }
 ],
 "metadata": {
  "kernelspec": {
   "display_name": "Python 3.9.13 ('cpaug')",
   "language": "python",
   "name": "python3"
  },
  "language_info": {
   "codemirror_mode": {
    "name": "ipython",
    "version": 3
   },
   "file_extension": ".py",
   "mimetype": "text/x-python",
   "name": "python",
   "nbconvert_exporter": "python",
   "pygments_lexer": "ipython3",
   "version": "3.9.13"
  },
  "orig_nbformat": 4,
  "vscode": {
   "interpreter": {
    "hash": "23064c9bf93d7a817798305737d999fada96cf39b1befaa1547c09e06b1b184b"
   }
  }
 },
 "nbformat": 4,
 "nbformat_minor": 2
}
